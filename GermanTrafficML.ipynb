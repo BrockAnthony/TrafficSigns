{
 "cells": [
  {
   "cell_type": "code",
   "execution_count": 2,
   "id": "c131616e",
   "metadata": {},
   "outputs": [],
   "source": [
    "#importing necessary libraries\n",
    "import numpy as np \n",
    "import pandas as pd \n",
    "import matplotlib.pyplot as plt\n",
    "from PIL import Image\n",
    "import os\n",
    "from sklearn.model_selection import train_test_split\n",
    "from sklearn.metrics import accuracy_score\n",
    "from keras.utils import to_categorical\n",
    "from keras.models import Sequential\n",
    "from keras.layers import Conv2D, MaxPool2D, Dense, Flatten, Dropout"
   ]
  },
  {
   "cell_type": "code",
   "execution_count": 3,
   "id": "58b1319e",
   "metadata": {},
   "outputs": [],
   "source": [
    "#empty lists to store image data and labels\n",
    "data = []\n",
    "labels = []\n",
    "classes = 43\n",
    "\n",
    "#path to the folder containing the training data\n",
    "cur_path = '/Users/brockada/Desktop/GermanTrafficSigns'\n",
    "\n",
    "#iterating over all the class folders in the training dataset\n",
    "for i in range(classes):\n",
    "    #path to the class folder\n",
    "    path = os.path.join(cur_path,'Train', str(i))\n",
    "    #list of all the images in the class folder\n",
    "    images = os.listdir(path)\n",
    "    \n",
    "    #iterating over all the images in the class folder\n",
    "    for a in images:\n",
    "        try:\n",
    "            #opening the image using the PIL library\n",
    "            image = Image.open(path + '/' + a)\n",
    "            #resizing the image to 30x30 pixels\n",
    "            image = image.resize((30,30))\n",
    "            #converting the image into a numpy array\n",
    "            image = np.array(image)\n",
    "            \n",
    "            #adding the image data and label to the respective lists\n",
    "            data.append(image)\n",
    "            labels.append(i)\n",
    "        except Exception as e:\n",
    "            print(\"There was an error with the path:\", str(e), path)"
   ]
  },
  {
   "cell_type": "code",
   "execution_count": 6,
   "id": "ff7d1fc0",
   "metadata": {},
   "outputs": [
    {
     "name": "stdout",
     "output_type": "stream",
     "text": [
      "The data has 39209 rows of data\n",
      "(39209, 30, 30, 3) (39209,)\n"
     ]
    }
   ],
   "source": [
    "#converting the lists to numpy arrays\n",
    "data = np.array(data)\n",
    "labels = np.array(labels)\n",
    "\n",
    "#printing the length and shape of the training dataset\n",
    "print(\"The data has\", str(len(data)), \"rows of data\")\n",
    "print(data.shape, labels.shape)"
   ]
  },
  {
   "cell_type": "code",
   "execution_count": 7,
   "id": "859cc2b5",
   "metadata": {},
   "outputs": [
    {
     "name": "stdout",
     "output_type": "stream",
     "text": [
      "(31367, 30, 30, 3) (7842, 30, 30, 3) (31367,) (7842,)\n"
     ]
    }
   ],
   "source": [
    "#splitting the training dataset into training and testing datasets\n",
    "X_train, X_test, y_train, y_test = train_test_split(data, labels, test_size=0.2, random_state=42)\n",
    "\n",
    "#printing the shape of the training and testing datasets\n",
    "print(X_train.shape, X_test.shape, y_train.shape, y_test.shape)"
   ]
  },
  {
   "cell_type": "code",
   "execution_count": 8,
   "id": "c9fe709b",
   "metadata": {},
   "outputs": [],
   "source": [
    "#converting the labels into one-hot encoding vectors\n",
    "y_train = to_categorical(y_train, 43)\n",
    "y_test = to_categorical(y_test, 43)"
   ]
  },
  {
   "cell_type": "markdown",
   "id": "a86cfb28",
   "metadata": {},
   "source": [
    "This code is taking the target labels for both the training and testing datasets, which are originally in integer form, and converting them into one-hot encoding vectors. One-hot encoding is a technique used to represent categorical variables as binary vectors, where only one element is 1 and the rest are 0s. This is commonly used in machine learning models that require categorical variables to be represented in a numeric form."
   ]
  },
  {
   "cell_type": "code",
   "execution_count": 9,
   "id": "6e984a82",
   "metadata": {},
   "outputs": [
    {
     "name": "stdout",
     "output_type": "stream",
     "text": [
      "Metal device set to: Apple M1 Pro\n"
     ]
    },
    {
     "name": "stderr",
     "output_type": "stream",
     "text": [
      "2023-03-23 21:02:43.761580: I tensorflow/core/common_runtime/pluggable_device/pluggable_device_factory.cc:305] Could not identify NUMA node of platform GPU ID 0, defaulting to 0. Your kernel may not have been built with NUMA support.\n",
      "2023-03-23 21:02:43.761888: I tensorflow/core/common_runtime/pluggable_device/pluggable_device_factory.cc:271] Created TensorFlow device (/job:localhost/replica:0/task:0/device:GPU:0 with 0 MB memory) -> physical PluggableDevice (device: 0, name: METAL, pci bus id: <undefined>)\n"
     ]
    }
   ],
   "source": [
    "#defining the model architecture\n",
    "model = Sequential()\n",
    "model.add(Conv2D(filters=32, kernel_size=(5,5), activation='relu', input_shape=X_train.shape[1:]))\n",
    "model.add(Conv2D(filters=32, kernel_size=(5,5), activation='relu'))\n",
    "model.add(MaxPool2D(pool_size=(2, 2)))\n",
    "model.add(Dropout(rate=0.25))\n",
    "model.add(Conv2D(filters=64, kernel_size=(3, 3), activation='relu'))\n",
    "model.add(Conv2D(filters=64, kernel_size=(3, 3), activation='relu'))\n",
    "model.add(MaxPool2D(pool_size=(2, 2)))\n",
    "model.add(Dropout(rate=0.25))\n",
    "model.add(Flatten())\n",
    "model.add(Dense(256, activation='relu'))\n",
    "model.add(Dropout(rate=0.5))\n",
    "model.add(Dense(43, activation='softmax'))"
   ]
  },
  {
   "cell_type": "markdown",
   "id": "43bd2eed",
   "metadata": {},
   "source": [
    "This code is defining the architecture of the neural network model that will be trained on the data. The model is a Sequential model, which means that the layers are stacked one after the other. The layers in the model include:\n",
    "\n",
    "Conv2D layers: These are convolutional layers that apply filters to the input image to extract features. The filters have a size of 5x5 and there are 32 filters in the first two layers and 64 filters in the last two layers.\n",
    "MaxPool2D layers: These are pooling layers that downsample the output of the convolutional layers. The pooling size is 2x2.\n",
    "Dropout layers: These are regularization layers that randomly drop some of the connections between neurons to prevent overfitting. The dropout rate is set to 0.25 for the first two dropout layers and 0.5 for the last dropout layer.\n",
    "Flatten layer: This layer flattens the output from the convolutional layers into a 1D array, which is required for the fully connected layers.\n",
    "Dense layers: These are fully connected layers that apply weights to the features extracted by the convolutional layers. There are two dense layers in this model with 256 and 43 neurons, respectively. The activation function used for the first dense layer is ReLU, and the activation function used for the last dense layer is softmax, which is commonly used for multi-class classification tasks."
   ]
  },
  {
   "cell_type": "code",
   "execution_count": 10,
   "id": "d878051b",
   "metadata": {},
   "outputs": [
    {
     "name": "stdout",
     "output_type": "stream",
     "text": [
      "Epoch 1/8\n"
     ]
    },
    {
     "name": "stderr",
     "output_type": "stream",
     "text": [
      "2023-03-23 21:03:49.377957: W tensorflow/core/platform/profile_utils/cpu_utils.cc:128] Failed to get CPU frequency: 0 Hz\n",
      "2023-03-23 21:03:49.793646: I tensorflow/core/grappler/optimizers/custom_graph_optimizer_registry.cc:113] Plugin optimizer for device_type GPU is enabled.\n"
     ]
    },
    {
     "name": "stdout",
     "output_type": "stream",
     "text": [
      "491/491 [==============================] - ETA: 0s - loss: 2.1483 - accuracy: 0.4903"
     ]
    },
    {
     "name": "stderr",
     "output_type": "stream",
     "text": [
      "2023-03-23 21:03:59.545036: I tensorflow/core/grappler/optimizers/custom_graph_optimizer_registry.cc:113] Plugin optimizer for device_type GPU is enabled.\n"
     ]
    },
    {
     "name": "stdout",
     "output_type": "stream",
     "text": [
      "491/491 [==============================] - 11s 15ms/step - loss: 2.1483 - accuracy: 0.4903 - val_loss: 0.6523 - val_accuracy: 0.8410\n",
      "Epoch 2/8\n",
      "491/491 [==============================] - 6s 13ms/step - loss: 0.7057 - accuracy: 0.8004 - val_loss: 0.2985 - val_accuracy: 0.9220\n",
      "Epoch 3/8\n",
      "491/491 [==============================] - 6s 13ms/step - loss: 0.4391 - accuracy: 0.8732 - val_loss: 0.1972 - val_accuracy: 0.9513\n",
      "Epoch 4/8\n",
      "491/491 [==============================] - 6s 13ms/step - loss: 0.3277 - accuracy: 0.9045 - val_loss: 0.1227 - val_accuracy: 0.9690\n",
      "Epoch 5/8\n",
      "491/491 [==============================] - 6s 13ms/step - loss: 0.2458 - accuracy: 0.9297 - val_loss: 0.0934 - val_accuracy: 0.9742\n",
      "Epoch 6/8\n",
      "491/491 [==============================] - 6s 13ms/step - loss: 0.2241 - accuracy: 0.9354 - val_loss: 0.0804 - val_accuracy: 0.9791\n",
      "Epoch 7/8\n",
      "491/491 [==============================] - 6s 13ms/step - loss: 0.1922 - accuracy: 0.9446 - val_loss: 0.0795 - val_accuracy: 0.9786\n",
      "Epoch 8/8\n",
      "491/491 [==============================] - 6s 13ms/step - loss: 0.1921 - accuracy: 0.9448 - val_loss: 0.0732 - val_accuracy: 0.9788\n"
     ]
    }
   ],
   "source": [
    "#compiling the model\n",
    "model.compile(loss='categorical_crossentropy', optimizer='adam', metrics=['accuracy'])\n",
    "\n",
    "#number of epochs for training\n",
    "epochs = 8\n",
    "#training the model on the training dataset\n",
    "history = model.fit(X_train, y_train, batch_size=64, epochs=epochs, validation_data=(X_test, y_test))\n",
    "#saving the trained model\n",
    "model.save(\"german_traffic_model.h5\")\n"
   ]
  },
  {
   "cell_type": "code",
   "execution_count": 12,
   "id": "d90041ab",
   "metadata": {},
   "outputs": [
    {
     "data": {
      "image/png": "[encoded data removed]",
      "text/plain": [
       "<Figure size 640x480 with 1 Axes>"
      ]
     },
     "metadata": {},
     "output_type": "display_data"
    }
   ],
   "source": [
    "# plot the training and validation accuracy vs epoch\n",
    "plt.figure(0)\n",
    "plt.plot(history.history['accuracy'], label='training accuracy')\n",
    "plt.plot(history.history['val_accuracy'], label='validation accuracy')\n",
    "plt.title('Training and Validation Accuracy')\n",
    "plt.xlabel('Epoch')\n",
    "plt.ylabel('Accuracy')\n",
    "plt.legend()\n",
    "plt.show()\n"
   ]
  },
  {
   "cell_type": "markdown",
   "id": "29d427b7",
   "metadata": {},
   "source": [
    "# Testing the trained model on the test dataset\n",
    "\n",
    "## Load test dataset labels and images paths"
   ]
  },
  {
   "cell_type": "code",
   "execution_count": 13,
   "id": "9c290073",
   "metadata": {},
   "outputs": [],
   "source": [
    "test_labels = pd.read_csv('Test.csv')['ClassId'].values\n",
    "test_images_paths = pd.read_csv('Test.csv')['Path'].values"
   ]
  },
  {
   "cell_type": "markdown",
   "id": "c5bfb72a",
   "metadata": {},
   "source": [
    "# Load images, resize them to 30x30 and save them to a list"
   ]
  },
  {
   "cell_type": "code",
   "execution_count": 15,
   "id": "bc89de0d",
   "metadata": {},
   "outputs": [],
   "source": [
    "test_data = []\n",
    "for path in test_images_paths:\n",
    "    img = Image.open(path)\n",
    "    img = img.resize((30, 30))\n",
    "    test_data.append(np.array(img))"
   ]
  },
  {
   "cell_type": "markdown",
   "id": "63dd2311",
   "metadata": {},
   "source": [
    "# Convert the test data list to a numpy array"
   ]
  },
  {
   "cell_type": "code",
   "execution_count": 16,
   "id": "4e7f4951",
   "metadata": {},
   "outputs": [],
   "source": [
    "X_test = np.array(test_data)"
   ]
  },
  {
   "cell_type": "markdown",
   "id": "222a7115",
   "metadata": {},
   "source": [
    "# Use the trained model to make predictions on the test data"
   ]
  },
  {
   "cell_type": "code",
   "execution_count": 17,
   "id": "3e8005e1",
   "metadata": {},
   "outputs": [
    {
     "name": "stdout",
     "output_type": "stream",
     "text": [
      " 51/395 [==>...........................] - ETA: 1s"
     ]
    },
    {
     "name": "stderr",
     "output_type": "stream",
     "text": [
      "2023-03-23 21:11:16.962273: I tensorflow/core/grappler/optimizers/custom_graph_optimizer_registry.cc:113] Plugin optimizer for device_type GPU is enabled.\n"
     ]
    },
    {
     "name": "stdout",
     "output_type": "stream",
     "text": [
      "395/395 [==============================] - 1s 2ms/step\n"
     ]
    }
   ],
   "source": [
    "y_pred = model.predict(X_test)\n",
    "y_pred = np.argmax(y_pred, axis=1)"
   ]
  },
  {
   "cell_type": "markdown",
   "id": "898d31f3",
   "metadata": {},
   "source": [
    "# Compute and print the accuracy of the model on the test dataset"
   ]
  },
  {
   "cell_type": "code",
   "execution_count": 18,
   "id": "b6499281",
   "metadata": {},
   "outputs": [
    {
     "name": "stdout",
     "output_type": "stream",
     "text": [
      "Test accuracy: 0.9495645288994458\n"
     ]
    }
   ],
   "source": [
    "test_accuracy = accuracy_score(test_labels, y_pred)\n",
    "print(f'Test accuracy: {test_accuracy}')"
   ]
  }
 ],
 "metadata": {
  "kernelspec": {
   "display_name": "Python 3 (ipykernel)",
   "language": "python",
   "name": "python3"
  },
  "language_info": {
   "codemirror_mode": {
    "name": "ipython",
    "version": 3
   },
   "file_extension": ".py",
   "mimetype": "text/x-python",
   "name": "python",
   "nbconvert_exporter": "python",
   "pygments_lexer": "ipython3",
   "version": "3.10.8"
  }
 },
 "nbformat": 4,
 "nbformat_minor": 5
}
