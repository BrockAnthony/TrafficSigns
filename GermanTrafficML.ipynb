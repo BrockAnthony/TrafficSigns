{
 "cells": [
  {
   "cell_type": "code",
   "execution_count": 61,
   "id": "c131616e",
   "metadata": {},
   "outputs": [],
   "source": [
    "#imports \n",
    "\n",
    "import numpy as np \n",
    "import pandas as pd \n",
    "import matplotlib.pyplot as plt\n",
    "import cv2\n",
    "import tensorflow as tf\n",
    "from PIL import Image\n",
    "import os\n",
    "import random\n",
    "from sklearn.model_selection import train_test_split\n",
    "from sklearn.metrics import accuracy_score, confusion_matrix\n",
    "from keras.utils import to_categorical\n",
    "from keras.models import Sequential, load_model\n",
    "from keras.layers import Conv2D, MaxPool2D, Dense, Flatten, Dropout"
   ]
  },
  {
   "cell_type": "code",
   "execution_count": 10,
   "id": "58b1319e",
   "metadata": {},
   "outputs": [],
   "source": [
    "data = []\n",
    "labels = []\n",
    "classes = 43\n",
    "\n",
    "cur_path = '/Users/brockada/Desktop/GermanTrafficSigns'\n",
    "\n",
    "for i in range(classes):\n",
    "    path = os.path.join(cur_path,'Train', str(i))\n",
    "    images = os.listdir(path)\n",
    "    \n",
    "    for a in images:\n",
    "        try:\n",
    "            image = Image.open(path + '/' + a)\n",
    "            image = image.resize((30,30))\n",
    "            image = np.array(image)\n",
    "            \n",
    "            data.append(image)\n",
    "            labels.append(i)\n",
    "        except:\n",
    "            print(\"There was an error with the path.\")\n",
    "\n",
    "            \n",
    "data = np.array(data)\n",
    "labels = np.array(labels)"
   ]
  },
  {
   "cell_type": "code",
   "execution_count": 11,
   "id": "d536d6e6",
   "metadata": {},
   "outputs": [
    {
     "name": "stdout",
     "output_type": "stream",
     "text": [
      "39209\n"
     ]
    }
   ],
   "source": [
    "print(len(data))"
   ]
  },
  {
   "cell_type": "code",
   "execution_count": 12,
   "id": "4fb605b1",
   "metadata": {},
   "outputs": [
    {
     "name": "stdout",
     "output_type": "stream",
     "text": [
      "(39209, 30, 30, 3) (39209,)\n"
     ]
    }
   ],
   "source": [
    "print(data.shape, labels.shape)\n",
    "\n",
    "#Splitting training and testing dataset\n",
    "X_train, X_test, y_train, y_test = train_test_split(data, labels, test_size=0.2, random_state=42)"
   ]
  },
  {
   "cell_type": "code",
   "execution_count": 13,
   "id": "859cc2b5",
   "metadata": {},
   "outputs": [
    {
     "name": "stdout",
     "output_type": "stream",
     "text": [
      "(31367, 30, 30, 3) (7842, 30, 30, 3) (31367,) (7842,)\n"
     ]
    }
   ],
   "source": [
    "print(X_train.shape, X_test.shape, y_train.shape, y_test.shape)"
   ]
  },
  {
   "cell_type": "code",
   "execution_count": 14,
   "id": "c9fe709b",
   "metadata": {},
   "outputs": [],
   "source": [
    "#Converting the labels into one hot encoding\n",
    "y_train = to_categorical(y_train, 43)\n",
    "y_test = to_categorical(y_test, 43)"
   ]
  },
  {
   "cell_type": "code",
   "execution_count": 15,
   "id": "6e984a82",
   "metadata": {},
   "outputs": [
    {
     "name": "stdout",
     "output_type": "stream",
     "text": [
      "Metal device set to: Apple M1 Pro\n"
     ]
    },
    {
     "name": "stderr",
     "output_type": "stream",
     "text": [
      "2023-01-20 14:21:30.651825: I tensorflow/core/common_runtime/pluggable_device/pluggable_device_factory.cc:305] Could not identify NUMA node of platform GPU ID 0, defaulting to 0. Your kernel may not have been built with NUMA support.\n",
      "2023-01-20 14:21:30.652265: I tensorflow/core/common_runtime/pluggable_device/pluggable_device_factory.cc:271] Created TensorFlow device (/job:localhost/replica:0/task:0/device:GPU:0 with 0 MB memory) -> physical PluggableDevice (device: 0, name: METAL, pci bus id: <undefined>)\n"
     ]
    }
   ],
   "source": [
    "#Building the model\n",
    "model = Sequential()\n",
    "model.add(Conv2D(filters=32, kernel_size=(5,5), activation='relu', input_shape=X_train.shape[1:]))\n",
    "model.add(Conv2D(filters=32, kernel_size=(5,5), activation='relu'))\n",
    "model.add(MaxPool2D(pool_size=(2, 2)))\n",
    "model.add(Dropout(rate=0.25))\n",
    "model.add(Conv2D(filters=64, kernel_size=(3, 3), activation='relu'))\n",
    "model.add(Conv2D(filters=64, kernel_size=(3, 3), activation='relu'))\n",
    "model.add(MaxPool2D(pool_size=(2, 2)))\n",
    "model.add(Dropout(rate=0.25))\n",
    "model.add(Flatten())\n",
    "model.add(Dense(256, activation='relu'))\n",
    "model.add(Dropout(rate=0.5))\n",
    "model.add(Dense(43, activation='softmax'))"
   ]
  },
  {
   "cell_type": "code",
   "execution_count": 16,
   "id": "c4cfa556",
   "metadata": {},
   "outputs": [],
   "source": [
    "#Compilation of the model\n",
    "model.compile(loss='categorical_crossentropy', optimizer='adam', metrics=['accuracy'])"
   ]
  },
  {
   "cell_type": "code",
   "execution_count": 17,
   "id": "d878051b",
   "metadata": {},
   "outputs": [
    {
     "name": "stdout",
     "output_type": "stream",
     "text": [
      "Epoch 1/15\n"
     ]
    },
    {
     "name": "stderr",
     "output_type": "stream",
     "text": [
      "2023-01-20 14:21:32.933340: W tensorflow/core/platform/profile_utils/cpu_utils.cc:128] Failed to get CPU frequency: 0 Hz\n"
     ]
    },
    {
     "name": "stdout",
     "output_type": "stream",
     "text": [
      "\r",
      "  1/981 [..............................] - ETA: 6:10 - loss: 47.2622 - accuracy: 0.0625"
     ]
    },
    {
     "name": "stderr",
     "output_type": "stream",
     "text": [
      "2023-01-20 14:21:33.153020: I tensorflow/core/grappler/optimizers/custom_graph_optimizer_registry.cc:113] Plugin optimizer for device_type GPU is enabled.\n"
     ]
    },
    {
     "name": "stdout",
     "output_type": "stream",
     "text": [
      "981/981 [==============================] - ETA: 0s - loss: 1.5873 - accuracy: 0.6063"
     ]
    },
    {
     "name": "stderr",
     "output_type": "stream",
     "text": [
      "2023-01-20 14:21:42.766428: I tensorflow/core/grappler/optimizers/custom_graph_optimizer_registry.cc:113] Plugin optimizer for device_type GPU is enabled.\n"
     ]
    },
    {
     "name": "stdout",
     "output_type": "stream",
     "text": [
      "981/981 [==============================] - 11s 11ms/step - loss: 1.5873 - accuracy: 0.6063 - val_loss: 0.2450 - val_accuracy: 0.9434\n",
      "Epoch 2/15\n",
      "981/981 [==============================] - 11s 11ms/step - loss: 0.4053 - accuracy: 0.8886 - val_loss: 0.1287 - val_accuracy: 0.9699\n",
      "Epoch 3/15\n",
      "981/981 [==============================] - 11s 11ms/step - loss: 0.2837 - accuracy: 0.9231 - val_loss: 0.2061 - val_accuracy: 0.9463\n",
      "Epoch 4/15\n",
      "981/981 [==============================] - 11s 11ms/step - loss: 0.2346 - accuracy: 0.9375 - val_loss: 0.1199 - val_accuracy: 0.9711\n",
      "Epoch 5/15\n",
      "981/981 [==============================] - 11s 11ms/step - loss: 0.2203 - accuracy: 0.9436 - val_loss: 0.0901 - val_accuracy: 0.9788\n",
      "Epoch 6/15\n",
      "981/981 [==============================] - 11s 11ms/step - loss: 0.1902 - accuracy: 0.9511 - val_loss: 0.1043 - val_accuracy: 0.9748\n",
      "Epoch 7/15\n",
      "981/981 [==============================] - 11s 11ms/step - loss: 0.2024 - accuracy: 0.9490 - val_loss: 0.0622 - val_accuracy: 0.9850\n",
      "Epoch 8/15\n",
      "981/981 [==============================] - 11s 11ms/step - loss: 0.1970 - accuracy: 0.9513 - val_loss: 0.1244 - val_accuracy: 0.9686\n",
      "Epoch 9/15\n",
      "981/981 [==============================] - 11s 11ms/step - loss: 0.1673 - accuracy: 0.9601 - val_loss: 0.0500 - val_accuracy: 0.9880\n",
      "Epoch 10/15\n",
      "981/981 [==============================] - 11s 11ms/step - loss: 0.1653 - accuracy: 0.9597 - val_loss: 0.0709 - val_accuracy: 0.9834\n",
      "Epoch 11/15\n",
      "981/981 [==============================] - 11s 11ms/step - loss: 0.1615 - accuracy: 0.9613 - val_loss: 0.0386 - val_accuracy: 0.9889\n",
      "Epoch 12/15\n",
      "981/981 [==============================] - 11s 11ms/step - loss: 0.2505 - accuracy: 0.9476 - val_loss: 0.0741 - val_accuracy: 0.9810\n",
      "Epoch 13/15\n",
      "981/981 [==============================] - 11s 11ms/step - loss: 0.1385 - accuracy: 0.9657 - val_loss: 0.0729 - val_accuracy: 0.9848\n",
      "Epoch 14/15\n",
      "981/981 [==============================] - 11s 11ms/step - loss: 0.1868 - accuracy: 0.9579 - val_loss: 0.0771 - val_accuracy: 0.9850\n",
      "Epoch 15/15\n",
      "981/981 [==============================] - 11s 11ms/step - loss: 0.1703 - accuracy: 0.9631 - val_loss: 0.0470 - val_accuracy: 0.9908\n"
     ]
    }
   ],
   "source": [
    "epochs = 15\n",
    "history = model.fit(X_train, y_train, batch_size=32, epochs=epochs, validation_data=(X_test, y_test))\n",
    "model.save(\"my_model.h5\")"
   ]
  },
  {
   "cell_type": "code",
   "execution_count": 18,
   "id": "d90041ab",
   "metadata": {},
   "outputs": [
    {
     "data": {
      "image/png": "[encoded data removed]",
      "text/plain": [
       "<Figure size 640x480 with 1 Axes>"
      ]
     },
     "metadata": {},
     "output_type": "display_data"
    }
   ],
   "source": [
    "#graphs showing Accuracy by epoch \n",
    "plt.figure(0)\n",
    "plt.plot(history.history['accuracy'], label='training accuracy')\n",
    "plt.plot(history.history['val_accuracy'], label='val accuracy')\n",
    "plt.title('Accuracy')\n",
    "plt.xlabel('epochs')\n",
    "plt.ylabel('accuracy')\n",
    "plt.legend()\n",
    "plt.show()\n"
   ]
  },
  {
   "cell_type": "code",
   "execution_count": 19,
   "id": "8d0a89ba",
   "metadata": {},
   "outputs": [],
   "source": [
    "#testing model using test dataset\n",
    "\n",
    "y_test = pd.read_csv('Test.csv')"
   ]
  },
  {
   "cell_type": "code",
   "execution_count": 63,
   "id": "b58d667c",
   "metadata": {},
   "outputs": [
    {
     "name": "stdout",
     "output_type": "stream",
     "text": [
      "395/395 [==============================] - 1s 2ms/step\n",
      "0.9593824228028504\n"
     ]
    }
   ],
   "source": [
    "labels = y_test['ClassId'].values\n",
    "images = y_test['Path'].values\n",
    "\n",
    "data = []\n",
    "\n",
    "for image in images:\n",
    "    img = Image.open(image)\n",
    "    img = img.resize((30,30))\n",
    "    data.append(np.array(img))\n",
    "    \n",
    "X_test = np.array(data)\n",
    "\n",
    "y_pred=model.predict(X_test) \n",
    "y_pred=np.argmax(y_pred, axis=1)\n",
    "\n",
    "print(accuracy_score(labels, y_pred))"
   ]
  }
 ],
 "metadata": {
  "kernelspec": {
   "display_name": "Python 3 (ipykernel)",
   "language": "python",
   "name": "python3"
  },
  "language_info": {
   "codemirror_mode": {
    "name": "ipython",
    "version": 3
   },
   "file_extension": ".py",
   "mimetype": "text/x-python",
   "name": "python",
   "nbconvert_exporter": "python",
   "pygments_lexer": "ipython3",
   "version": "3.10.8"
  }
 },
 "nbformat": 4,
 "nbformat_minor": 5
}
